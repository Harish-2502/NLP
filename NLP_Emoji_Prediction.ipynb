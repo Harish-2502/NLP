{
 "cells": [
  {
   "cell_type": "markdown",
   "metadata": {},
   "source": [
    "<H2><CENTER> Emoji Prediction<CENTER><H2>"
   ]
  },
  {
   "cell_type": "markdown",
   "metadata": {},
   "source": [
    "### Importing necessary packages"
   ]
  },
  {
   "cell_type": "code",
   "execution_count": 1,
   "metadata": {},
   "outputs": [],
   "source": [
    "import re# regular expression used for string manipulation\n",
    "import codecs# to read other languges data\n",
    "import numpy as np# NumPy is a Python library used for working with arrays\n",
    "import pandas as pd#working with dataframe\n",
    "import time#to calculate time of execution"
   ]
  },
  {
   "cell_type": "code",
   "execution_count": 2,
   "metadata": {},
   "outputs": [],
   "source": [
    "import spacy#package to import stop list\n",
    "from spacy.lang.te import STOP_WORDS as STOP_WORDS_TE\n",
    "with codecs.open(\"C:\\\\Users\\haris\\\\Downloads\\\\telugu_stopwords.txt\", encoding='utf-8') as f:\n",
    "    stop_txt_te = f.read()\n",
    "stop_te = stop_txt_te.splitlines()"
   ]
  },
  {
   "cell_type": "code",
   "execution_count": 35,
   "metadata": {},
   "outputs": [],
   "source": [
    "import tensorflow as tf\n",
    "from tensorflow import keras\n",
    "from tensorflow.keras.layers import Dense\n",
    "from tensorflow.keras.utils import to_categorical\n",
    "from tensorflow.keras import Sequential"
   ]
  },
  {
   "cell_type": "code",
   "execution_count": 48,
   "metadata": {},
   "outputs": [],
   "source": [
    "from sklearn.model_selection import train_test_split#to split the data into test and train\n",
    "from sklearn.preprocessing import LabelEncoder\n",
    "from sklearn.metrics import accuracy_score, f1_score, precision_score, recall_score, confusion_matrix\n",
    "#importing classifer algorithm\n",
    "#from sklearn.svm import SVC\n",
    "from sklearn.tree import DecisionTreeClassifier\n",
    "from sklearn.neighbors import KNeighborsClassifier\n",
    "from sklearn.ensemble import RandomForestClassifier\n",
    "from sklearn.feature_extraction.text import CountVectorizer, TfidfVectorizer "
   ]
  },
  {
   "cell_type": "markdown",
   "metadata": {},
   "source": [
    "### Reading files"
   ]
  },
  {
   "cell_type": "code",
   "execution_count": 5,
   "metadata": {},
   "outputs": [
    {
     "name": "stdout",
     "output_type": "stream",
     "text": [
      "24ఎస్టీయూ తెలంగాణ24 చరిత్రలో ఈ రోజు/అక్టోబర్ 24 󾔖ఐక్యరాజ్య సమితి పతాకం󾔖 󾔖ఐక్యరాజ్యసమితి దినోత్సవం󾔖 󾭺1577 :...\n",
      "ఈరోజు పుట్టిన రోజు జరుపుకుంటున్న మా అభిమాన హీరోకి ఇవే మా హృదయపూర్వక జన్మదిన శుభాకాంక్షలు.. #ప్రభాస్\n",
      "ఈరోజు పుట్టిన రోజు జరుపుకుంటున్న మా అభిమాన హీరో #ప్రభాస్ కిఇవే మా హృదయపూర్వక జన్మదిన శుభాకాంక్షలు\n",
      "*_BE A LIGHT INTO YOURSELF_* *మనం మానసిక ప్రశాంతతను ఎలా పొందవచ్చు.* మానసిక ప్రశాంతత ఇది ఎక్కడ...\n",
      "అమ్మకు ఎంత గౌరవమిస్తున్నారో భార్యకు కూడా అంతే ఇవ్వండి.. ఎందుకంటే ఒకరు *చందమామ* చూపిస్తారు.. మరొకరు *చుక్కలు* చూపిస్తారు..!!\n",
      "నీ ప్రమేయం లేకుండా నిన్ను ఎవరూ నాశనం చేయలేరు, అది తెలుసుకుంటే.. నీకు ఒకర్ని నిందించే అవసరం ఎప్పుడూ రాదు; శుభోదయం..!!\n",
      "పరిస్థితులెలా ఉన్నా నీ కర్తవ్యం నీకు గుర్తుంటే.. జరగాల్సిన పనులు జరుగు తుంటాయి; శుభోదయం..!!\n",
      "నీకు అందని దానికోసం ఆశపడకు, నీకు నచ్చని దానికోసం కష్టపడకు, నీకై కష్టపడేవారిని మరిచిపోకు, నిన్ను ఇష్టపడేవారిని వదులు కోకు. శుభోదయం..!!\n",
      "దీపావళి శుభాకాంక్షలు. మన పద్దతి ప్రకారమే అయితే దీపాలు ఆర్పకూడదు. అలా ఈసారి దీపావళి నాకు ఓరోజు ముందే వచ్సినట్టే.\n",
      "krish tweet ....\n"
     ]
    }
   ],
   "source": [
    "with codecs.open(\"C:\\\\Users\\\\haris\\\\Downloads\\\\Twitter corpus of Resource-Scarce Languages for Sentiment Analysis and Multilingual Emoji Prediction\\\\data\\\\data\\\\emoji_prediction_data\\\\telugu_data\\\\telugu.txt\", encoding='utf-8') as f:\n",
    "    txt1 = f.read()#to read the total file\n",
    "print(txt1[0:1000])"
   ]
  },
  {
   "cell_type": "code",
   "execution_count": 6,
   "metadata": {
    "scrolled": true
   },
   "outputs": [],
   "source": [
    "emoji_te = (pd.read_csv(\"C:\\\\Users\\\\haris\\\\Downloads\\\\Twitter corpus of Resource-Scarce Languages for Sentiment Analysis and Multilingual Emoji Prediction\\\\data\\\\data\\\\emoji_prediction_data\\\\telugu_data\\\\telugu.csv\"))\n",
    "emoji_te = emoji_te[\"label\"].tolist() "
   ]
  },
  {
   "cell_type": "markdown",
   "metadata": {},
   "source": [
    "### Cleaning Text"
   ]
  },
  {
   "cell_type": "code",
   "execution_count": 7,
   "metadata": {},
   "outputs": [],
   "source": [
    "def remove_punct_te(text):\n",
    "    new_words = \" \"\n",
    "    for word in text:\n",
    "        if word not in STOP_WORDS_TE or stop_te:\n",
    "            w = re.sub(r'[.#-:?!\\_|\"\"'',-...A-Za-z0-9]','',word) #remove everything except words and space#how \n",
    "            new_words = new_words + w\n",
    "    return re.sub(r\"\\s+\", \" \", new_words, flags=re.UNICODE)"
   ]
  },
  {
   "cell_type": "code",
   "execution_count": 8,
   "metadata": {},
   "outputs": [
    {
     "name": "stdout",
     "output_type": "stream",
     "text": [
      "[' ఎస్టీయూ తెలంగాణ చరిత్రలో ఈ రోజుఅక్టోబర్ \\U000fe516ఐక్యరాజ్య సమితి పతాకం\\U000fe516 \\U000fe516ఐక్యరాజ్యసమితి దినోత్సవం\\U000fe516 \\U000feb7a ', ' ఈరోజు పుట్టిన రోజు జరుపుకుంటున్న మా అభిమాన హీరోకి ఇవే మా హృదయపూర్వక జన్మదిన శుభాకాంక్షలు ప్రభాస్', ' ఈరోజు పుట్టిన రోజు జరుపుకుంటున్న మా అభిమాన హీరో ప్రభాస్ కిఇవే మా హృదయపూర్వక జన్మదిన శుభాకాంక్షలు', ' మనం మానసిక ప్రశాంతతను ఎలా పొందవచ్చు మానసిక ప్రశాంతత ఇది ఎక్కడ', ' అమ్మకు ఎంత గౌరవమిస్తున్నారో భార్యకు కూడా అంతే ఇవ్వండి ఎందుకంటే ఒకరు చందమామ చూపిస్తారు మరొకరు చుక్కలు చూపిస్తారు', ' నీ ప్రమేయం లేకుండా నిన్ను ఎవరూ నాశనం చేయలేరు అది తెలుసుకుంటే నీకు ఒకర్ని నిందించే అవసరం ఎప్పుడూ రాదు; శుభోదయం', ' పరిస్థితులెలా ఉన్నా నీ కర్తవ్యం నీకు గుర్తుంటే జరగాల్సిన పనులు జరుగు తుంటాయి; శుభోదయం', ' నీకు అందని దానికోసం ఆశపడకు నీకు నచ్చని దానికోసం కష్టపడకు నీకై కష్టపడేవారిని మరిచిపోకు నిన్ను ఇష్టపడేవారిని వదులు కోకు శుభోదయం', ' దీపావళి శుభాకాంక్షలు మన పద్దతి ప్రకారమే అయితే దీపాలు ఆర్పకూడదు అలా ఈసారి దీపావళి నాకు ఓరోజు ముందే వచ్సినట్టే', ' దీపావళి శుభాకాంక్షలు మన పద్దతి ప్రకారమే అయితే దీపాలు ఆర్పకూడదు అలా ఈసారి దీపావళి నాకు ఓరోజు ముందే వచ్సినట్టే']\n",
      "Time taken to filter the sequence : 1.6779873371124268 s\n"
     ]
    }
   ],
   "source": [
    "start=time.time()\n",
    "text_te = txt1.splitlines()\n",
    "#print(remove_punct(text_cleaned[0:10000]))\n",
    "filtered_sentence_te = []\n",
    "for i in range(0,len(text_te)):\n",
    "    filtered_sentence_te.append(remove_punct_te(text_te[i]))\n",
    "print(filtered_sentence_te[0:10])\n",
    "end=time.time()\n",
    "tt=end-start\n",
    "print(\"Time taken to filter the sequence :\",tt,\"s\")"
   ]
  },
  {
   "cell_type": "markdown",
   "metadata": {},
   "source": [
    "### Text to Vector"
   ]
  },
  {
   "cell_type": "code",
   "execution_count": 9,
   "metadata": {},
   "outputs": [],
   "source": [
    "#telugu\n",
    "vectorizer_te = CountVectorizer()\n",
    "X = vectorizer_te.fit_transform(filtered_sentence_te)\n",
    "#print(X)"
   ]
  },
  {
   "cell_type": "code",
   "execution_count": 10,
   "metadata": {},
   "outputs": [],
   "source": [
    "vectorizer_d = CountVectorizer()\n",
    "X_d = vectorizer_d.fit_transform(filtered_sentence_te).toarray()"
   ]
  },
  {
   "cell_type": "markdown",
   "metadata": {},
   "source": [
    "### Label Encoding ###"
   ]
  },
  {
   "cell_type": "code",
   "execution_count": 11,
   "metadata": {},
   "outputs": [
    {
     "data": {
      "text/plain": [
       "{0, 1, 2, 3, 4, 5, 6, 7, 8, 9, 10, 12, 13, 14, 15, 16, 17, 18, 19}"
      ]
     },
     "execution_count": 11,
     "metadata": {},
     "output_type": "execute_result"
    }
   ],
   "source": [
    "#telugu\n",
    "le = LabelEncoder()\n",
    "Y = le.fit_transform(emoji_te[0:len(filtered_sentence_te)])\n",
    "la = le.inverse_transform(Y)\n",
    "set(la)"
   ]
  },
  {
   "cell_type": "markdown",
   "metadata": {},
   "source": [
    "### Splitting data - TELUGU"
   ]
  },
  {
   "cell_type": "code",
   "execution_count": 12,
   "metadata": {},
   "outputs": [],
   "source": [
    "#Splitting the data into train data and test data\n",
    "X_train_te, X_test_te, y_train_te, y_test_te = train_test_split(X,Y, test_size = 0.2, random_state = 42)"
   ]
  },
  {
   "cell_type": "code",
   "execution_count": 13,
   "metadata": {},
   "outputs": [],
   "source": [
    "#Splitting the data into train data and test data\n",
    "X_train_d, X_test_d, y_train_d, y_test_d = train_test_split(X_d,Y, test_size = 0.2, random_state = 42)"
   ]
  },
  {
   "cell_type": "code",
   "execution_count": 14,
   "metadata": {},
   "outputs": [
    {
     "name": "stdout",
     "output_type": "stream",
     "text": [
      "19\n"
     ]
    }
   ],
   "source": [
    "y_train_d = to_categorical(y_train_d)\n",
    "y_test_d = to_categorical(y_test_d)\n",
    "\n",
    "count_classes = y_test_d.shape[1]\n",
    "print(count_classes)"
   ]
  },
  {
   "cell_type": "code",
   "execution_count": 15,
   "metadata": {},
   "outputs": [
    {
     "name": "stdout",
     "output_type": "stream",
     "text": [
      "Shape train data =  (13592, 3732)\n",
      "Shape of train label =  (13592,)\n",
      "Shape of test data =  (3398, 3732)\n",
      "Shape of test label =  (3398,)\n"
     ]
    }
   ],
   "source": [
    "#Printing the size of the train data, train label, test data and test label\n",
    "print(\"Shape train data = \",np.shape(X_train_te))\n",
    "print(\"Shape of train label = \",np.shape(y_train_te))\n",
    "print(\"Shape of test data = \",np.shape(X_test_te))\n",
    "print(\"Shape of test label = \",np.shape(y_test_te))"
   ]
  },
  {
   "cell_type": "markdown",
   "metadata": {},
   "source": [
    "### Decision Tree###"
   ]
  },
  {
   "cell_type": "code",
   "execution_count": 16,
   "metadata": {},
   "outputs": [
    {
     "name": "stdout",
     "output_type": "stream",
     "text": [
      "Time taken to train the model : 1.466688632965088 s\n"
     ]
    }
   ],
   "source": [
    "start=time.time()\n",
    "clf_dt_te = DecisionTreeClassifier()\n",
    "clf_dt_te = clf_dt_te.fit(X_train_te, y_train_te)\n",
    "end=time.time()\n",
    "tt=end-start\n",
    "print(\"Time taken to train the model :\" ,tt,\"s\")"
   ]
  },
  {
   "cell_type": "code",
   "execution_count": 17,
   "metadata": {},
   "outputs": [
    {
     "name": "stdout",
     "output_type": "stream",
     "text": [
      "Time taken to test the model : 0.0029916763305664062 s\n"
     ]
    }
   ],
   "source": [
    "start=time.time()\n",
    "y_pred_dt_te = clf_dt_te.predict(X_test_te)\n",
    "end=time.time()\n",
    "tt=end-start\n",
    "print(\"Time taken to test the model :\" ,tt,\"s\")"
   ]
  },
  {
   "cell_type": "markdown",
   "metadata": {},
   "source": [
    "#### Decision Tree Classifier Report - Telugu"
   ]
  },
  {
   "cell_type": "code",
   "execution_count": 18,
   "metadata": {},
   "outputs": [
    {
     "name": "stdout",
     "output_type": "stream",
     "text": [
      "Accuracy =  52.68\n"
     ]
    }
   ],
   "source": [
    "#Computation of the accuracy score\n",
    "acc_dt_te = accuracy_score(y_test_te, y_pred_dt_te)\n",
    "print('Accuracy = ','%.2f'%(acc_dt_te*100))"
   ]
  },
  {
   "cell_type": "code",
   "execution_count": 19,
   "metadata": {},
   "outputs": [
    {
     "name": "stdout",
     "output_type": "stream",
     "text": [
      "              precision    recall  f1-score   support\n",
      "\n",
      "           0       0.53      0.52      0.53       196\n",
      "           1       0.46      0.59      0.52       570\n",
      "           2       0.57      0.56      0.57       752\n",
      "           3       0.62      0.56      0.59       118\n",
      "           4       0.28      0.19      0.23        47\n",
      "           5       0.56      0.48      0.52       375\n",
      "           6       0.52      0.57      0.55       430\n",
      "           7       0.75      0.67      0.71        36\n",
      "           8       0.49      0.35      0.40        52\n",
      "           9       0.54      0.39      0.45       145\n",
      "          10       0.46      0.41      0.43        75\n",
      "          11       0.62      0.55      0.58        29\n",
      "          12       0.36      0.17      0.24        23\n",
      "          13       0.52      0.46      0.49       155\n",
      "          14       0.36      0.44      0.40         9\n",
      "          15       0.50      0.49      0.49       154\n",
      "          16       0.71      0.71      0.71         7\n",
      "          17       1.00      1.00      1.00         3\n",
      "          18       0.58      0.53      0.55       222\n",
      "\n",
      "    accuracy                           0.53      3398\n",
      "   macro avg       0.55      0.51      0.52      3398\n",
      "weighted avg       0.53      0.53      0.53      3398\n",
      "\n"
     ]
    }
   ],
   "source": [
    "from sklearn.metrics import classification_report\n",
    "rep_dt_te = classification_report(y_test_te, y_pred_dt_te, output_dict=True)\n",
    "rep1_dt_te = classification_report(y_test_te, y_pred_dt_te)\n",
    "\n",
    "macro_precision_dt_te =  rep_dt_te['macro avg']['precision'] \n",
    "macro_recall_dt_te = rep_dt_te['macro avg']['recall']    \n",
    "macro_f1_dt_te = rep_dt_te['macro avg']['f1-score']\n",
    "accuracy_dt_te = rep_dt_te['accuracy']\n",
    "\n",
    "print(rep1_dt_te)"
   ]
  },
  {
   "cell_type": "code",
   "execution_count": 21,
   "metadata": {},
   "outputs": [
    {
     "data": {
      "text/plain": [
       "<matplotlib.axes._subplots.AxesSubplot at 0x114e29aa6c8>"
      ]
     },
     "execution_count": 21,
     "metadata": {},
     "output_type": "execute_result"
    },
    {
     "data": {
      "image/png": "[encoded data removed]",
      "text/plain": [
       "<Figure size 432x288 with 2 Axes>"
      ]
     },
     "metadata": {
      "needs_background": "light"
     },
     "output_type": "display_data"
    }
   ],
   "source": [
    "import scikitplot as skplt\n",
    "import matplotlib.pyplot as plt\n",
    "skplt.metrics.plot_confusion_matrix(y_test_te, y_pred_dt_te)"
   ]
  },
  {
   "cell_type": "code",
   "execution_count": 22,
   "metadata": {},
   "outputs": [
    {
     "name": "stdout",
     "output_type": "stream",
     "text": [
      "[192, 735, 746, 106, 32, 322, 472, 32, 37, 106, 68, 26, 11, 139, 11, 150, 7, 3, 203]\n"
     ]
    },
    {
     "data": {
      "image/png": "[encoded data removed]",
      "text/plain": [
       "<Figure size 720x360 with 1 Axes>"
      ]
     },
     "metadata": {
      "needs_background": "light"
     },
     "output_type": "display_data"
    },
    {
     "data": {
      "image/png": "[encoded data removed]",
      "text/plain": [
       "<Figure size 720x360 with 1 Axes>"
      ]
     },
     "metadata": {
      "needs_background": "light"
     },
     "output_type": "display_data"
    }
   ],
   "source": [
    "#ax = plt.subplot(1,2,1)\n",
    "fig = plt.figure(figsize = (10, 5)) \n",
    "x = np.arange(19)\n",
    "height = []\n",
    "for i in range(0,19):\n",
    "    height.append(len(y_pred_dt_te[y_pred_dt_te==i]))\n",
    "print(height)\n",
    "plt.bar(x, height = height)\n",
    "plt.xticks(x, x)\n",
    "plt.title(\" PREDICTED LABELS\")\n",
    "plt.ylabel(\"NO OF TEST DATA\")\n",
    "for index, value in enumerate(x):\n",
    "    \n",
    "    plt.text(value-0.4,len(y_pred_dt_te[y_pred_dt_te==value]), str(len(y_pred_dt_te[y_pred_dt_te==value])))\n",
    "fig1 = plt.figure(figsize = (10, 5)) \n",
    "height=[]\n",
    "for i in range(0,19):\n",
    "    height.append(len(y_test_te[y_test_te==i]))\n",
    "plt.bar(x, height = height)\n",
    "plt.xticks(x, x)\n",
    "plt.title(\" ACTUAL LABELS\")\n",
    "plt.ylabel(\"NO OF TEST DATA\")\n",
    "for index, value in enumerate(x):\n",
    "    plt.text(value-0.4,len(y_test_te[y_test_te==value]) , str(len(y_test_te[y_test_te==value])))"
   ]
  },
  {
   "cell_type": "code",
   "execution_count": 23,
   "metadata": {},
   "outputs": [],
   "source": [
    "r = \"షట్చక్రాలు మానవుని శరీరం లోని వెన్నుపూసలో ఉండే , దిగువ చెప్పిన ఆరు సూక్ష్మ స్థానాలను షట్చక్రాలు అంటారు* అష్ట భార్యలు* శ్రీకృష్ణుడి ఎనిమిది మంది భార్యలును అష్ట భార్యలు లేదా అష్టమహిషులు 1.రుక్మిణి,2. సత్యభామ,3. జాంబవతి,4. మిత్రవింద,5.భద్ర\"\n",
    "rv = vectorizer_te.transform([remove_punct_te(r)])"
   ]
  },
  {
   "cell_type": "code",
   "execution_count": 24,
   "metadata": {},
   "outputs": [
    {
     "name": "stdout",
     "output_type": "stream",
     "text": [
      "[7]\n"
     ]
    }
   ],
   "source": [
    "print(clf_dt_te.predict(rv))"
   ]
  },
  {
   "cell_type": "markdown",
   "metadata": {},
   "source": [
    "### GUI ###"
   ]
  },
  {
   "cell_type": "code",
   "execution_count": 49,
   "metadata": {},
   "outputs": [],
   "source": [
    "import PIL.Image,PIL.ImageTk\n",
    "def predict():\n",
    "    ans = remove_punct_te(str(textArea.get(\"1.0\",\"end\")))\n",
    "    X1 = vectorizer_te.transform([ans])\n",
    "    pred = clf_dt_te.predict(X1)\n",
    "                    \n",
    "    if(pred==0):\n",
    "        Label(gui, text =\"The predicted Tweet is of Class 0\").place(x=120,y=200)\n",
    "        photo0 = PhotoImage(file = r\"C:\\\\Users\\\\haris\\\\Downloads\\\\class1.png\") \n",
    "        photoimage0 = photo0.subsample(1, 1) \n",
    "        Button(gui, image = photoimage0).place(x=150,y=250)\n",
    "        Button.pack()\n",
    "    if(pred==1):\n",
    "        Label(gui, text =\"The predicted Tweet is of Class 1\").place(x=120,y=200)\n",
    "        photo0 = PhotoImage(file = r\"C:\\\\Users\\\\haris\\\\Downloads\\\\class2.png\") \n",
    "        photoimage0 = photo0.subsample(1, 1) \n",
    "        Button(gui, image = photoimage0).place(x=150,y=250)\n",
    "        Button.pack()\n",
    "    if(pred==2):\n",
    "        Label(gui, text =\"The predicted Tweet is of Class 2\").place(x=120,y=200)\n",
    "        photo0 = PhotoImage(file = r\"C:\\\\Users\\\\haris\\\\Downloads\\\\class3.png\") \n",
    "        photoimage0 = photo0.subsample(1, 1) \n",
    "        Button(gui, image = photoimage0).place(x=150,y=250)\n",
    "        Button.pack()\n",
    "    if(pred==3):\n",
    "        Label(gui, text =\"The predicted Tweet is of Class 3\").place(x=120,y=200)\n",
    "        photo0 = PhotoImage(file = r\"C:\\\\Users\\\\haris\\\\Downloads\\\\class4.png\") \n",
    "        photoimage0 = photo0.subsample(1, 1) \n",
    "        Button(gui, image = photoimage0).place(x=150,y=250)\n",
    "        Button.pack()\n",
    "    if(pred==4):\n",
    "        Label(gui, text =\"The predicted Tweet is of Class 4\").place(x=120,y=200)\n",
    "        photo0 = PhotoImage(file = r\"C:\\\\Users\\\\haris\\\\Downloads\\\\class5.png\") \n",
    "        photoimage0 = photo0.subsample(1, 1) \n",
    "        Button(gui, image = photoimage0).place(x=150,y=250)\n",
    "        Button.pack()\n",
    "    if(pred==5):\n",
    "        Label(gui, text =\"The predicted Tweet is Class 5\").place(x=120,y=200)\n",
    "        photo0 = PhotoImage(file = r\"C:\\\\Users\\\\haris\\\\Downloads\\\\class6.png\") \n",
    "        photoimage0 = photo0.subsample(1, 1) \n",
    "        Button(gui, image = photoimage0).place(x=150,y=350)\n",
    "        Button.pack()\n",
    "    if(pred==6):\n",
    "        Label(gui, text =\"The predicted Tweet is of Class 6\").place(x=120,y=200)\n",
    "        photo0 = PhotoImage(file = r\"C:\\\\Users\\\\haris\\\\Downloads\\\\class7.png\") \n",
    "        photoimage0 = photo0.subsample(1, 1) \n",
    "        Button(gui, image = photoimage0).place(x=150,y=250)\n",
    "        Button.pack()\n",
    "    if(pred==7):\n",
    "        Label(gui, text =\"The predicted Tweet is of Class 7\").place(x=120,y=200)\n",
    "        photo0 = PhotoImage(file = r\"C:\\\\Users\\\\haris\\\\Downloads\\\\class8.png\") \n",
    "        photoimage0 = photo0.subsample(1, 1) \n",
    "        Button(gui, image = photoimage0).place(x=150,y=250)\n",
    "        Button.pack()\n",
    "    if(pred==8):\n",
    "        Label(gui, text =\"The predicted Tweet is Class 8\").place(x=120,y=200)\n",
    "        photo0 = PhotoImage(file = r\"C:\\\\Users\\\\haris\\\\Downloads\\\\class9.png\") \n",
    "        photoimage0 = photo0.subsample(1, 1) \n",
    "        Button(gui, image = photoimage0).place(x=150,y=250)\n",
    "        Button.pack()\n",
    "    if(pred==9):\n",
    "        Label(gui, text =\"The predicted Tweet is of Class 9\").place(x=120,y=200)\n",
    "        photo0 = PhotoImage(file = r\"C:\\\\Users\\\\haris\\\\Downloads\\\\class10.png\") \n",
    "        photoimage0 = photo0.subsample(1, 1) \n",
    "        Button(gui, image = photoimage0).place(x=150,y=350)\n",
    "        Button.pack()\n",
    "    if(pred==10):\n",
    "        Label(gui, text =\"The predicted Tweet is Class 10\").place(x=120,y=200)\n",
    "        photo0 = PhotoImage(file = r\"C:\\\\Users\\\\haris\\\\Downloads\\\\class11.png\") \n",
    "        photoimage0 = photo0.subsample(1, 1) \n",
    "        Button(gui, image = photoimage0).place(x=150,y=250)\n",
    "        Button.pack()\n",
    "    if(pred==11):\n",
    "        Label(gui, text =\"The predicted Tweet is of Class 11\").place(x=120,y=200)\n",
    "        photo0 = PhotoImage(file = r\"C:\\\\Users\\\\haris\\\\Downloads\\\\class12.png\") \n",
    "        photoimage0 = photo0.subsample(1, 1) \n",
    "        Button(gui, image = photoimage0).place(x=150,y=350)\n",
    "        Button.pack()\n",
    "    if(pred==12):\n",
    "        Label(gui, text =\"The predicted Tweet is of Class 12\").place(x=120,y=200)\n",
    "        photo0 = PhotoImage(file = r\"C:\\\\Users\\\\haris\\\\Downloads\\\\class13.png\") \n",
    "        photoimage0 = photo0.subsample(1, 1) \n",
    "        Button(gui, image = photoimage0).place(x=150,y=250)\n",
    "        Button.pack()\n",
    "    if(pred==13):\n",
    "        Label(gui, text =\"The predicted Tweet is of Class 13\").place(x=120,y=200)\n",
    "        photo0 = PhotoImage(file = r\"C:\\\\Users\\\\haris\\\\Downloads\\\\class14.png\") \n",
    "        photoimage0 = photo0.subsample(1, 1) \n",
    "        Button(gui, image = photoimage0).place(x=150,y=350)\n",
    "        Button.pack()\n",
    "    if(pred==14):\n",
    "        Label(gui, text =\"The predicted Tweet is of Class 14\").place(x=120,y=200)\n",
    "        photo0 = PhotoImage(file = r\"C:\\\\Users\\\\haris\\\\Downloads\\\\class15.png\") \n",
    "        photoimage0 = photo0.subsample(1, 1) \n",
    "        Button(gui, image = photoimage0).place(x=150,y=250)\n",
    "        Button.pack()\n",
    "    if(pred==15):\n",
    "        Label(gui, text =\"The predicted Tweet is of Class 15\").place(x=120,y=200)\n",
    "        photo0 = PhotoImage(file = r\"C:\\\\Users\\\\haris\\\\Downloads\\\\class16.png\") \n",
    "        photoimage0 = photo0.subsample(1, 1) \n",
    "        Button(gui, image = photoimage0).place(x=150,y=250)\n",
    "        Button.pack()\n",
    "    if(pred==16):\n",
    "        Label(gui, text =\"The predicted Tweet is of Class 16\").place(x=120,y=200)\n",
    "        photo0 = PhotoImage(file = r\"C:\\\\Users\\\\haris\\\\Downloads\\\\class17.png\") \n",
    "        photoimage0 = photo0.subsample(1, 1) \n",
    "        Button(gui, image = photoimage0).place(x=150,y=250)\n",
    "        Button.pack()\n",
    "    if(pred==17):\n",
    "        Label(gui, text =\"The predicted Tweet is of Class 17\").place(x=120,y=200)\n",
    "        photo0 = PhotoImage(file = r\"C:\\\\Users\\\\haris\\\\Downloads\\\\class18.png\") \n",
    "        photoimage0 = photo0.subsample(1, 1) \n",
    "        Button(gui, image = photoimage0).place(x=150,y=250)\n",
    "        Button.pack()\n",
    "    if(pred==18):\n",
    "        Label(gui, text =\"The predicted Tweet is of Class 18\").place(x=120,y=200)\n",
    "        photo0 = PhotoImage(file = r\"C:\\\\Users\\\\haris\\\\Downloads\\\\class19.png\") \n",
    "        photoimage0 = photo0.subsample(1, 1) \n",
    "        Button(gui, image = photoimage0).place(x=150,y=250)\n",
    "        Button.pack()"
   ]
  },
  {
   "cell_type": "code",
   "execution_count": 50,
   "metadata": {},
   "outputs": [
    {
     "name": "stderr",
     "output_type": "stream",
     "text": [
      "Exception in Tkinter callback\n",
      "Traceback (most recent call last):\n",
      "  File \"C:\\Users\\haris\\Anaconda3\\lib\\tkinter\\__init__.py\", line 1705, in __call__\n",
      "    return self.func(*args)\n",
      "  File \"<ipython-input-49-7d38bcdc2699>\", line 54, in predict\n",
      "    Button.pack()\n",
      "TypeError: pack_configure() missing 1 required positional argument: 'self'\n"
     ]
    }
   ],
   "source": [
    "from matplotlib.figure import Figure \n",
    "from matplotlib.backends.backend_tkagg import (FigureCanvasTkAgg,  \n",
    "NavigationToolbar2Tk)\n",
    "import tkinter as tk\n",
    "from pandas import DataFrame\n",
    "import matplotlib.pyplot as plt\n",
    "from matplotlib.backends.backend_tkagg import FigureCanvasTkAgg\n",
    "import tkinter as tk\n",
    "from tkinter import *\n",
    "from matplotlib.figure import Figure \n",
    "gui = Tk()\n",
    "gui.title(\"Emoji Prediction - Report\")\n",
    "gui.geometry('500x400') \n",
    "gui.configure(bg='steel blue')\n",
    "Label(gui, text = \"Enter Tweets : \").place(x=20,y=160)\n",
    "textArea = Text(gui, height = 2, width = 25, font = \"cambria 13\")\n",
    "textArea.place(x=100,y=150)\n",
    "run_button = Button(gui,  command = predict, text = \"predict\")\n",
    "run_button.pack() \n",
    "run_button.place(x=340,y=155)\n",
    "label = Label(gui)\n",
    "label.pack()\n",
    "mainloop()"
   ]
  },
  {
   "cell_type": "markdown",
   "metadata": {},
   "source": [
    "### Deep learning Model ###"
   ]
  },
  {
   "cell_type": "code",
   "execution_count": 36,
   "metadata": {},
   "outputs": [],
   "source": [
    "model = Sequential()\n",
    "model.add(Dense(500, activation='relu', input_dim = X_train_te.shape[1]))\n",
    "model.add(Dense(100, activation='relu'))\n",
    "model.add(Dense(50, activation='relu'))\n",
    "model.add(Dense(19, activation='softmax'))\n",
    "\n",
    "# Compile the model\n",
    "model.compile(optimizer='adam', \n",
    "              loss='categorical_crossentropy', \n",
    "              metrics=['accuracy'])"
   ]
  },
  {
   "cell_type": "code",
   "execution_count": 37,
   "metadata": {},
   "outputs": [
    {
     "name": "stdout",
     "output_type": "stream",
     "text": [
      "Train on 13592 samples\n",
      "Epoch 1/20\n",
      "13592/13592 [==============================] - 4s 260us/sample - loss: 2.3023 - accuracy: 0.2682\n",
      "Epoch 2/20\n",
      "13592/13592 [==============================] - 3s 239us/sample - loss: 1.8279 - accuracy: 0.4206\n",
      "Epoch 3/20\n",
      "13592/13592 [==============================] - 3s 240us/sample - loss: 1.2354 - accuracy: 0.6218\n",
      "Epoch 4/20\n",
      "13592/13592 [==============================] - 3s 243us/sample - loss: 0.7622 - accuracy: 0.7769\n",
      "Epoch 5/20\n",
      "13592/13592 [==============================] - 3s 242us/sample - loss: 0.5066 - accuracy: 0.8555\n",
      "Epoch 6/20\n",
      "13592/13592 [==============================] - 3s 242us/sample - loss: 0.3838 - accuracy: 0.8940\n",
      "Epoch 7/20\n",
      "13592/13592 [==============================] - 3s 243us/sample - loss: 0.3149 - accuracy: 0.9128\n",
      "Epoch 8/20\n",
      "13592/13592 [==============================] - 3s 244us/sample - loss: 0.2853 - accuracy: 0.9214\n",
      "Epoch 9/20\n",
      "13592/13592 [==============================] - 3s 245us/sample - loss: 0.2520 - accuracy: 0.9291\n",
      "Epoch 10/20\n",
      "13592/13592 [==============================] - 3s 244us/sample - loss: 0.2300 - accuracy: 0.9314\n",
      "Epoch 11/20\n",
      "13592/13592 [==============================] - 3s 245us/sample - loss: 0.2166 - accuracy: 0.9333\n",
      "Epoch 12/20\n",
      "13592/13592 [==============================] - 3s 245us/sample - loss: 0.2044 - accuracy: 0.9347\n",
      "Epoch 13/20\n",
      "13592/13592 [==============================] - 3s 247us/sample - loss: 0.1929 - accuracy: 0.9344\n",
      "Epoch 14/20\n",
      "13592/13592 [==============================] - 3s 246us/sample - loss: 0.1827 - accuracy: 0.9365\n",
      "Epoch 15/20\n",
      "13592/13592 [==============================] - 3s 251us/sample - loss: 0.1800 - accuracy: 0.9352\n",
      "Epoch 16/20\n",
      "13592/13592 [==============================] - 3s 246us/sample - loss: 0.1710 - accuracy: 0.9357\n",
      "Epoch 17/20\n",
      "13592/13592 [==============================] - 3s 248us/sample - loss: 0.1584 - accuracy: 0.9393\n",
      "Epoch 18/20\n",
      "13592/13592 [==============================] - 3s 243us/sample - loss: 0.1593 - accuracy: 0.9356\n",
      "Epoch 19/20\n",
      "13592/13592 [==============================] - 3s 245us/sample - loss: 0.1624 - accuracy: 0.9366\n",
      "Epoch 20/20\n",
      "13592/13592 [==============================] - 3s 243us/sample - loss: 0.1543 - accuracy: 0.9371\n",
      "Time taken to train the sequence :\n",
      "66.68144845962524 secs\n"
     ]
    }
   ],
   "source": [
    "start=time.time()\n",
    "model.fit(X_train_d, y_train_d, epochs = 20)\n",
    "end=time.time()\n",
    "tt=end-start\n",
    "print(\"Time taken to train the sequence :\")\n",
    "print(tt,\"secs\")"
   ]
  },
  {
   "cell_type": "code",
   "execution_count": 38,
   "metadata": {},
   "outputs": [
    {
     "name": "stdout",
     "output_type": "stream",
     "text": [
      "Accuracy on training data: 0.9497498273849487 \n",
      " Error on training data: 0.05025017261505127\n",
      "Accuracy on test data: 0.5379635095596313 \n",
      " Error on test data: 0.46203649044036865\n"
     ]
    }
   ],
   "source": [
    "pred_train= model.predict(X_train_d)\n",
    "scores = model.evaluate(X_train_d, y_train_d, verbose=0)\n",
    "print('Accuracy on training data: {} \\n Error on training data: {}'.format(scores[1], 1 - scores[1]))   \n",
    " \n",
    "pred_test= model.predict(X_test_d)\n",
    "scores2 = model.evaluate(X_test_d, y_test_d, verbose=0)\n",
    "print('Accuracy on test data: {} \\n Error on test data: {}'.format(scores2[1], 1 - scores2[1])) "
   ]
  },
  {
   "cell_type": "code",
   "execution_count": 39,
   "metadata": {},
   "outputs": [
    {
     "name": "stdout",
     "output_type": "stream",
     "text": [
      "Saved model to disk\n"
     ]
    }
   ],
   "source": [
    "model_json = model.to_json()\n",
    "with open(\"model.json\", \"w\") as json_file:\n",
    "    json_file.write(model_json)\n",
    "# serialize weights to HDF5\n",
    "model.save_weights(\"model.h5\")\n",
    "print(\"Saved model to disk\")"
   ]
  },
  {
   "cell_type": "code",
   "execution_count": 40,
   "metadata": {},
   "outputs": [],
   "source": [
    "from tensorflow.keras.models import model_from_json"
   ]
  },
  {
   "cell_type": "code",
   "execution_count": 41,
   "metadata": {},
   "outputs": [
    {
     "name": "stdout",
     "output_type": "stream",
     "text": [
      "Loaded model from disk\n",
      "accuracy: 95.46%\n"
     ]
    }
   ],
   "source": [
    "json_file = open('model.json', 'r')\n",
    "loaded_model_json = json_file.read()\n",
    "json_file.close()\n",
    "loaded_model = model_from_json(loaded_model_json)\n",
    "# load weights into new model\n",
    "loaded_model.load_weights(\"model.h5\")\n",
    "print(\"Loaded model from disk\")\n",
    " \n",
    "# evaluate loaded model on test data\n",
    "loaded_model.compile(loss='binary_crossentropy', optimizer='rmsprop', metrics=['accuracy'])\n",
    "score = loaded_model.evaluate(X_test_d,y_test_d,verbose=0)\n",
    "print(\"%s: %.2f%%\" % (loaded_model.metrics_names[1], score[1]*100))"
   ]
  },
  {
   "cell_type": "code",
   "execution_count": 42,
   "metadata": {},
   "outputs": [],
   "source": [
    "l = \"దొంగల స్థావరాలు ఎవరికి తెలియకూడదని దొంగలు జాగ్రత్తపడతారు,సమయం ఆసన్నమైంది నువ్వు నిప్పువో లేదా కంపువో నిరూపించుకో గజదొంగ …\"\n",
    "l1 = vectorizer_d.transform([remove_punct_te(r)]).toarray()"
   ]
  },
  {
   "cell_type": "code",
   "execution_count": 43,
   "metadata": {},
   "outputs": [
    {
     "data": {
      "text/plain": [
       "(1, 3732)"
      ]
     },
     "execution_count": 43,
     "metadata": {},
     "output_type": "execute_result"
    }
   ],
   "source": [
    "l1.shape"
   ]
  },
  {
   "cell_type": "code",
   "execution_count": 44,
   "metadata": {},
   "outputs": [
    {
     "name": "stdout",
     "output_type": "stream",
     "text": [
      "7\n"
     ]
    }
   ],
   "source": [
    "print(np.argmax(loaded_model.predict(l1)))"
   ]
  }
 ],
 "metadata": {
  "kernelspec": {
   "display_name": "Python 3",
   "language": "python",
   "name": "python3"
  },
  "language_info": {
   "codemirror_mode": {
    "name": "ipython",
    "version": 3
   },
   "file_extension": ".py",
   "mimetype": "text/x-python",
   "name": "python",
   "nbconvert_exporter": "python",
   "pygments_lexer": "ipython3",
   "version": "3.7.4"
  }
 },
 "nbformat": 4,
 "nbformat_minor": 2
}
